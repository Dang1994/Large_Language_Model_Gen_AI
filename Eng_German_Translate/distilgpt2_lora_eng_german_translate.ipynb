{
  "cells": [
    {
      "cell_type": "markdown",
      "metadata": {
        "id": "5efOnpwtaEYQ"
      },
      "source": [
        "# 🧠 LoRA Fine-Tuning for English–German Translation using DistilGPT2\n",
        "\n",
        "This project demonstrates **efficient fine-tuning of a lightweight language model** (DistilGPT2) using **LoRA (Low-Rank Adaptation)** for **English-to-German translation**. It is designed to work even in **low-resource environments** like Google Colab by using **8-bit quantization**, **FP16**, and a **sampled dataset**.\n",
        "\n",
        "## 📌 Key Objectives\n",
        "\n",
        "- 🏋️‍♂️ Fine-tune a causal language model (DistilGPT2) for translation\n",
        "- ⚡ Use **LoRA** to reduce training time and memory usage\n",
        "- 🔍 Apply **8-bit quantization** and **mixed precision training**\n",
        "- 📝 Work with a parallel English-German dataset (`deu.txt`)\n",
        "- ✅ Prepare everything for lightweight deployment\n",
        "\n",
        "\n",
        "## 📁 Data Preprocessing\n",
        "\n",
        "The dataset is a **tab-separated file (`deu.txt`)** containing parallel English-German sentence pairs. A **sample fraction** is used to reduce memory during training.\n",
        "\n",
        "### Sample Format (deu.txt):\n",
        "```\n",
        "I love you.    Ich liebe dich.\n",
        "How are you?   Wie geht es dir?\n",
        "```\n",
        "\n",
        "## 🧠 Model Setup & Optimization\n",
        "\n",
        "### ✅ Model Used:\n",
        "- `distilgpt2` – a lightweight version of GPT2\n",
        "- LoRA added for efficient fine-tuning\n",
        "- Quantized to 8-bit with BitsAndBytes\n",
        "- Uses FP16 for memory savings\n",
        "\n",
        "\n",
        "\n",
        "## ⚙️ Training Configuration\n",
        "\n",
        "| Parameter               | Value          |\n",
        "|------------------------|----------------|\n",
        "| Model                  | DistilGPT2 + LoRA |\n",
        "| Batch Size             | 1 (gradient accumulation of 4) |\n",
        "| Max Steps              | 300            |\n",
        "| Learning Rate          | 5e-5           |\n",
        "| Mixed Precision (fp16) | ✅ Yes          |\n",
        "| Save Strategy          | No saving      |\n",
        "\n",
        "We used the **Trainer API** from Hugging Face for simplicity and integrated it with our custom collator and LoRA-injected model.\n",
        "\n",
        "\n",
        "\n",
        "## 🚀 How to Run\n",
        "\n",
        "1. Upload `deu.txt` to your environment.\n",
        "2. Run the full Python script.\n",
        "3. Training will begin and complete in ~5–10 minutes (depending on GPU).\n",
        "\n",
        "\n",
        "## 📊 Example Prompt-Output\n",
        "\n",
        "```text\n",
        "Prompt:\n",
        "Translate English to German:\n",
        "English: How are you?\n",
        "German:\n",
        "\n",
        "Output:\n",
        "Wie geht es dir?\n",
        "```\n"
      ]
    },
    {
      "cell_type": "code",
      "execution_count": null,
      "metadata": {
        "colab": {
          "base_uri": "https://localhost:8080/"
        },
        "id": "aa8E37bZwHNL",
        "outputId": "47ab5ba1-3547-46e5-dd25-6fb469ac7b27"
      },
      "outputs": [],
      "source": [
        "# Install required libraries\n",
        "!pip install -q transformers datasets accelerate peft bitsandbytes\n",
        "!pip install gradio\n",
        "!pip install datasets"
      ]
    },
    {
      "cell_type": "code",
      "execution_count": 33,
      "metadata": {
        "id": "z0AM9GIxd-CK"
      },
      "outputs": [],
      "source": [
        "import torch\n",
        "from transformers import (\n",
        "    AutoTokenizer,\n",
        "    AutoModelForCausalLM,\n",
        "    TrainingArguments,\n",
        "    Trainer,\n",
        "    DataCollatorForLanguageModeling,\n",
        "    BitsAndBytesConfig\n",
        ")\n",
        "from datasets import Dataset\n",
        "from peft import get_peft_model, LoraConfig, TaskType"
      ]
    },
    {
      "cell_type": "code",
      "execution_count": 34,
      "metadata": {
        "id": "FeU7gUe9jGIF"
      },
      "outputs": [],
      "source": [
        "# Quantization configuration for reduced memory usage (helpful for Colab)\n",
        "quantization_config = BitsAndBytesConfig(\n",
        "    load_in_8bit=True,  # Enable 8-bit quantization\n",
        "    llm_int8_threshold=6.0\n",
        ")"
      ]
    },
    {
      "cell_type": "code",
      "execution_count": 35,
      "metadata": {
        "id": "baYC57icjDd0"
      },
      "outputs": [],
      "source": [
        "class FalconWrapper(AutoModelForCausalLM):\n",
        "    def forward(self, *args, **kwargs):\n",
        "        # Remove unsupported arguments\n",
        "        kwargs.pop(\"num_items_in_batch\", None)\n",
        "        return super().forward(*args, **kwargs)"
      ]
    },
    {
      "cell_type": "code",
      "execution_count": 36,
      "metadata": {
        "id": "u0HzwLSpjJgn"
      },
      "outputs": [],
      "source": [
        "# Configure model and tokenizer (I am trying distilgpt2 as an alternative for lower GPU usage)\n",
        "model_name = \"distilgpt2\"\n",
        "tokenizer = AutoTokenizer.from_pretrained(model_name, trust_remote_code=True)\n",
        "tokenizer.pad_token = tokenizer.eos_token"
      ]
    },
    {
      "cell_type": "code",
      "execution_count": 37,
      "metadata": {
        "id": "mD_8jiSqjAwO"
      },
      "outputs": [],
      "source": [
        "# Load model with quantization and mixed precision\n",
        "model = FalconWrapper.from_pretrained(model_name, torch_dtype=torch.float16, device_map=\"auto\")"
      ]
    },
    {
      "cell_type": "code",
      "execution_count": 38,
      "metadata": {
        "id": "i_wH3U2wi-Wg"
      },
      "outputs": [],
      "source": [
        "def load_and_prepare_data(file_path, sample_fraction=0.3):\n",
        "    raw_lines = []\n",
        "    # Read all lines\n",
        "    with open(file_path, 'r', encoding='utf-8') as f:\n",
        "        lines = f.readlines()\n",
        "\n",
        "    # Calculate sample size and slice\n",
        "    sample_size = int(len(lines) * sample_fraction)\n",
        "    lines = lines[:sample_size]\n",
        "\n",
        "    # Process lines into input-output pairs\n",
        "    for line in lines:\n",
        "        parts = line.strip().split('\\t')\n",
        "        if len(parts) >= 2:\n",
        "            raw_lines.append({'input': parts[0], 'output': parts[1]})\n",
        "\n",
        "    return Dataset.from_list(raw_lines)"
      ]
    },
    {
      "cell_type": "code",
      "execution_count": 39,
      "metadata": {
        "id": "ldnOL5lji30A"
      },
      "outputs": [],
      "source": [
        "# Load and split data (80% train, 20% validation)\n",
        "dataset = load_and_prepare_data('deu.txt').train_test_split(test_size=0.2, seed=42)"
      ]
    },
    {
      "cell_type": "code",
      "execution_count": null,
      "metadata": {
        "colab": {
          "base_uri": "https://localhost:8080/",
          "height": 81,
          "referenced_widgets": [
            "8835dedcd7ca4360828ac9469a964a03",
            "e05f4a76d0d34324b341abda5838b99a",
            "b8373e6b263348a2a893fc42db5a88e6",
            "43d3dbc0c53f4e138dca1811fd1f9716",
            "4d1f44512f764de48cbae2794db8c40e",
            "39a3981990d84a61bb7ba205b1414303",
            "5cf165672cb64fef805e8eb93697cec0",
            "f2a340567bdc489d93edb1c3f7f4b3e9",
            "f990e1c81cc841f8bdf1fa26d57a11b6",
            "e897943f139a490d98831577eb85dd12",
            "ff7132ac0b3444e1a88613bd47e003bb",
            "0ebd709ab86e4974bb4c6689e1c5db8d",
            "e6572df3396b41cc9386377f94c205e2",
            "dafef4264184473baa7df6246de8737e",
            "d507facbefb541aca4777b1c5db2eeec",
            "8649a695229f40358f42df611794df0c",
            "ba1fc64be1c54c9bad7cc31016effd4c",
            "f3b86e8e052b44c0bc75d66fca2151f6",
            "c7a3ebb7c3454192a9f0ed6509180061",
            "f750360731bf456cbcca152cb83b0342",
            "ec6917a22a3d4442bed6f26d965b70d6",
            "0540f2a9f9fd41cebad0a2cd2692dd27"
          ]
        },
        "id": "jwpCbBDQi0_q",
        "outputId": "0490de59-39e7-4409-b45e-204aaa8db2c7"
      },
      "outputs": [],
      "source": [
        "# Formatting function\n",
        "def format_dataset(example):\n",
        "    return {\n",
        "        \"text\": f\"Translate English to German:\\nEnglish: {example['input']}\\nGerman:\",\n",
        "        \"labels\": example['output']\n",
        "    }\n",
        "\n",
        "train_dataset = dataset['train'].map(format_dataset)\n",
        "val_dataset = dataset['test'].map(format_dataset)"
      ]
    },
    {
      "cell_type": "code",
      "execution_count": 41,
      "metadata": {
        "id": "UXHQFdmPiyXY"
      },
      "outputs": [],
      "source": [
        "# Tokenization with proper padding/truncation\n",
        "def tokenize_function(examples):\n",
        "    model_inputs = tokenizer(\n",
        "        examples[\"input\"],\n",
        "        max_length=30,\n",
        "        padding=\"max_length\",\n",
        "        truncation=True\n",
        "    )\n",
        "\n",
        "    with tokenizer.as_target_tokenizer():\n",
        "        labels = tokenizer(\n",
        "            examples[\"output\"],\n",
        "            max_length=30,\n",
        "            padding=\"max_length\",\n",
        "            truncation=True\n",
        "        )\n",
        "\n",
        "    model_inputs[\"labels\"] = labels[\"input_ids\"]\n",
        "    return model_inputs"
      ]
    },
    {
      "cell_type": "code",
      "execution_count": null,
      "metadata": {
        "colab": {
          "base_uri": "https://localhost:8080/",
          "height": 136,
          "referenced_widgets": [
            "bb56b98c126343adb905d467a898948a",
            "40e545f0d0f543d691d6fe857ddd8360",
            "a9ea64650f1540149cc133c98b78b5b5",
            "ea05aa7fb25c422da975d8fc39d38c28",
            "0b37b178fc4f40f5bd1d531c7fa3f460",
            "45fa8de29dd84f099b84370bfd065874",
            "6ec49fd2e48e49f6b807fdc6c9ada45d",
            "32b25afae35a4e309aaf647d5cfdc12f",
            "a6e494dc4e4143c9b3540643e6e6088d",
            "7a209cfd9a8c4fbdb66c88bc12c21957",
            "0e597bc5385943d0a47dc6e8f2b22020",
            "7fa832b1f2ca42698348335c11edba20",
            "3444bf110bc04dc3aa5e4293cc09ab46",
            "a71b1b4a91f0414a95d4bb1093172fe8",
            "27118ffd10cd46ef98d6c4fbb9181382",
            "97aa2e8835a745f4becd116c3ef44d7c",
            "da617cde14db422cae6e60670c10c32e",
            "19e2be8b76cf40b9bd169a64ab88981c",
            "b690a4cbd4b04b30b1cee40489cd6e51",
            "39f2365726384d7caabef65f58691c8d",
            "5e7fcd6380e44b9ead380680c6be2c0b",
            "21bf0e1d4d964909a889be0949cd12f4"
          ]
        },
        "id": "v6eLO0ZoisgY",
        "outputId": "e95bae3b-c5c0-415e-9ddb-7c9502723230"
      },
      "outputs": [],
      "source": [
        "# Apply tokenization\n",
        "tokenized_train = train_dataset.map(tokenize_function, batched=True)\n",
        "tokenized_val = val_dataset.map(tokenize_function, batched=True)"
      ]
    },
    {
      "cell_type": "code",
      "execution_count": 43,
      "metadata": {
        "id": "WGOUaoidiqJF"
      },
      "outputs": [],
      "source": [
        "# Remove unnecessary columns\n",
        "tokenized_train = tokenized_train.remove_columns([\"text\", \"input\", \"output\"])\n",
        "tokenized_val = tokenized_val.remove_columns([\"text\", \"input\", \"output\"])"
      ]
    },
    {
      "cell_type": "markdown",
      "metadata": {},
      "source": [
        "### ✅ LoRA Configuration:\n",
        "```python\n",
        "LoraConfig(\n",
        "    r=4,\n",
        "    lora_alpha=16,\n",
        "    lora_dropout=0.05,\n",
        "    bias=\"none\"\n",
        ")\n",
        "```"
      ]
    },
    {
      "cell_type": "code",
      "execution_count": null,
      "metadata": {
        "id": "wyFkgF01ijaj"
      },
      "outputs": [],
      "source": [
        "# Configure LoRA (lightweight)\n",
        "peft_config = LoraConfig(\n",
        "    task_type=TaskType.CAUSAL_LM,\n",
        "    r=4,\n",
        "    lora_alpha=16,\n",
        "    lora_dropout=0.05,\n",
        "    bias=\"none\"\n",
        "\n",
        ")"
      ]
    },
    {
      "cell_type": "code",
      "execution_count": null,
      "metadata": {
        "colab": {
          "base_uri": "https://localhost:8080/"
        },
        "id": "xDna65aJihOg",
        "outputId": "9374c6ff-a051-47cb-85e1-3880e8ee4c7b"
      },
      "outputs": [],
      "source": [
        "model = get_peft_model(model, peft_config)\n",
        "model.print_trainable_parameters()"
      ]
    },
    {
      "cell_type": "code",
      "execution_count": null,
      "metadata": {
        "colab": {
          "base_uri": "https://localhost:8080/"
        },
        "id": "X9aJwX5gibwt",
        "outputId": "844df742-364a-4a42-f6b9-b112d04d66ea"
      },
      "outputs": [],
      "source": [
        "# Training arguments\n",
        "training_args = TrainingArguments(\n",
        "    output_dir=\"lora-falcon-output\",\n",
        "    max_steps=300,\n",
        "    per_device_train_batch_size=1,\n",
        "    gradient_accumulation_steps=4,  # Increase accumulation steps to maintain effective batch size\n",
        "    learning_rate=5e-5,\n",
        "    fp16=True,  # Enable mixed precision training\n",
        "    logging_steps=50,\n",
        "    save_strategy=\"no\",\n",
        "    evaluation_strategy=\"no\",\n",
        "    report_to=\"none\",\n",
        "    remove_unused_columns=False,\n",
        "    warmup_steps=10,\n",
        "    dataloader_num_workers=2  # Increase workers for better I/O throughput\n",
        ")"
      ]
    },
    {
      "cell_type": "code",
      "execution_count": null,
      "metadata": {
        "id": "J6hyF8JCiYQi"
      },
      "outputs": [],
      "source": [
        "# Data collator\n",
        "data_collator = DataCollatorForLanguageModeling(\n",
        "    tokenizer=tokenizer,\n",
        "    mlm=False\n",
        ")"
      ]
    },
    {
      "cell_type": "code",
      "execution_count": null,
      "metadata": {
        "colab": {
          "base_uri": "https://localhost:8080/"
        },
        "id": "0bcd5kXDiQcz",
        "outputId": "ac8771eb-b1ec-406e-83bd-e751221bd0bf"
      },
      "outputs": [],
      "source": [
        "# Trainer\n",
        "trainer = Trainer(\n",
        "    model=model,\n",
        "    args=training_args,\n",
        "    train_dataset=tokenized_train,\n",
        "    eval_dataset=tokenized_val,\n",
        "    tokenizer=tokenizer,\n",
        "    data_collator=data_collator\n",
        ")"
      ]
    },
    {
      "cell_type": "code",
      "execution_count": null,
      "metadata": {
        "colab": {
          "base_uri": "https://localhost:8080/",
          "height": 315
        },
        "id": "7EdVLUQFiObh",
        "outputId": "1841d748-b17f-44d6-c9be-e89db02d1644"
      },
      "outputs": [],
      "source": [
        "# Start training\n",
        "print(\"Starting training...\")\n",
        "trainer.train()\n"
      ]
    },
    {
      "cell_type": "code",
      "execution_count": null,
      "metadata": {
        "colab": {
          "base_uri": "https://localhost:8080/"
        },
        "id": "vNEdD2Raee2n",
        "outputId": "565a041a-737a-477d-baee-026900d7b1c4"
      },
      "outputs": [],
      "source": [
        "# Save the model\n",
        "model.save_pretrained(\"lora-falcon-finetuned\")\n",
        "tokenizer.save_pretrained(\"lora-falcon-finetuned\")"
      ]
    },
    {
      "cell_type": "markdown",
      "metadata": {
        "id": "zGs6IpfjeCaM"
      },
      "source": [
        "**Inference**:\n",
        "   - Finally, I used the trained model to perform **inference** on a few sample sentences. The model generates the German translation for an English input, which can be evaluated by comparing it to the ground truth translation."
      ]
    },
    {
      "cell_type": "code",
      "execution_count": null,
      "metadata": {
        "id": "KW7zBY3GY5U8"
      },
      "outputs": [],
      "source": [
        "# Inference function\n",
        "def generate_translation(model, tokenizer, english_text):\n",
        "    prompt = f\"Translate English to German:\\nEnglish: {english_text}\\nGerman:\"\n",
        "    inputs = tokenizer(prompt, return_tensors=\"pt\").to(model.device)\n",
        "\n",
        "    with torch.no_grad():\n",
        "        outputs = model.generate(\n",
        "            **inputs,\n",
        "            max_new_tokens=50,\n",
        "            num_beams=5,\n",
        "            early_stopping=True,\n",
        "            temperature=0.7\n",
        "        )\n",
        "\n",
        "    # Decode only the generated German text\n",
        "    full_output = tokenizer.decode(outputs[0], skip_special_tokens=True)\n",
        "    german_translation = full_output.split(\"German:\")[1].strip()\n",
        "    return german_translation"
      ]
    },
    {
      "cell_type": "code",
      "execution_count": null,
      "metadata": {
        "colab": {
          "base_uri": "https://localhost:8080/"
        },
        "id": "m4gnB5O9Y_pl",
        "outputId": "e5e07364-16ed-472f-b8dc-57a1c08d170e"
      },
      "outputs": [],
      "source": [
        "# Test translation\n",
        "test_text = \"Where is the train station?\"\n",
        "translation = generate_translation(model, tokenizer, test_text)\n",
        "print(f\"\\nTest Translation:\\nEnglish: {test_text}\\nGerman: {translation}\")"
      ]
    },
    {
      "cell_type": "code",
      "execution_count": null,
      "metadata": {
        "colab": {
          "base_uri": "https://localhost:8080/"
        },
        "id": "rjms0Efal3A7",
        "outputId": "5100365a-edb6-4ca9-fe11-e34919f907ce"
      },
      "outputs": [],
      "source": [
        "from transformers import pipeline # Import the pipeline function\n",
        "\n",
        "# Initialize the translator\n",
        "translator = pipeline(task=\"translation\", model=\"lora-falcon-finetuned\", tokenizer=\"lora-falcon-finetuned\")"
      ]
    },
    {
      "cell_type": "code",
      "execution_count": null,
      "metadata": {
        "id": "hFnHc7h3moLe"
      },
      "outputs": [],
      "source": [
        "import gradio as gr"
      ]
    },
    {
      "cell_type": "code",
      "execution_count": null,
      "metadata": {
        "id": "VWBJimRfpWcR"
      },
      "outputs": [],
      "source": [
        "import gradio as gr\n",
        "from transformers import pipeline"
      ]
    },
    {
      "cell_type": "code",
      "execution_count": null,
      "metadata": {
        "colab": {
          "base_uri": "https://localhost:8080/"
        },
        "id": "LIzrjKApnu6v",
        "outputId": "b2053afb-5b8e-4f3c-8f8e-43310c928679"
      },
      "outputs": [],
      "source": [
        "# Load the fine-tuned Falcon model with LoRA adapters\n",
        "translator = pipeline(\n",
        "    task=\"translation\",\n",
        "    model=\"lora-falcon-finetuned\",\n",
        "    tokenizer=\"lora-falcon-finetuned\"\n",
        ")"
      ]
    },
    {
      "cell_type": "code",
      "execution_count": null,
      "metadata": {
        "id": "5_iUrL0Qn8EP"
      },
      "outputs": [],
      "source": [
        "# Define the translation function\n",
        "def translate_text(text):\n",
        "    if not text.strip():\n",
        "        return \"Please enter some English text to translate.\"\n",
        "    result = translator(text)[0]['translation_text']\n",
        "    return result"
      ]
    },
    {
      "cell_type": "code",
      "execution_count": null,
      "metadata": {
        "id": "zCTHzd31n3uQ"
      },
      "outputs": [],
      "source": [
        "# Interface styling\n",
        "title = \"🌍 English-to-German Translator\"\n",
        "description = \"\"\"\n",
        "🔤 This web application uses a **fine-tuned Falcon-1B model with LoRA (Low-Rank Adaptation)** to translate English sentences into German efficiently.🧠 The model was trained by **Subrat Kumar** with a focus on performance and low GPU consumption using parameter-efficient fine-tuning techniques.📍 Just enter any English sentence below and click **Translate** to get its German equivalent.\n",
        "\"\"\""
      ]
    },
    {
      "cell_type": "code",
      "execution_count": null,
      "metadata": {
        "colab": {
          "base_uri": "https://localhost:8080/"
        },
        "id": "HPW-LL-Gn0BE",
        "outputId": "72ce4664-61ef-4246-923b-ec171229961b"
      },
      "outputs": [],
      "source": [
        "# Launch the Gradio Interface\n",
        "interface = gr.Interface(\n",
        "    fn=translate_text,\n",
        "    inputs=gr.Textbox(\n",
        "        label=\"📝 Enter English Text\",\n",
        "        placeholder=\"Type something like: 'How are you today?'\",\n",
        "        lines=3\n",
        "    ),\n",
        "    outputs=gr.Textbox(\n",
        "        label=\"🇩🇪 German Translation\",\n",
        "        lines=3\n",
        "    ),\n",
        "    title=title,\n",
        "    description=description,\n",
        "    theme=\"soft\",  # Optional: switch to a soft color palette\n",
        "    allow_flagging=\"never\",\n",
        "    examples=[\"Good morning!\", \"What is your name?\", \"I love machine learning.\"]\n",
        ")\n"
      ]
    },
    {
      "cell_type": "code",
      "execution_count": null,
      "metadata": {
        "colab": {
          "base_uri": "https://localhost:8080/",
          "height": 646
        },
        "id": "vPIb2eganxB8",
        "outputId": "32034dbe-d750-42a2-febd-01e76ed3f3eb"
      },
      "outputs": [],
      "source": [
        "interface.launch()"
      ]
    },
    {
      "attachments": {
        "front_eng_german.png": {
          "image/png": "[encoded data removed]"
        }
      },
      "cell_type": "markdown",
      "metadata": {
        "id": "oaeouW0QlCET"
      },
      "source": [
        "![front_eng_german.png](attachment:front_eng_german.png)\n",
        "\n",
        "### **Challenges Faced:**  \n",
        "Due to the limited dataset and smaller model size, early outputs weren’t very accurate. I noticed it sometimes repeated phrases or gave generic responses.\n",
        "\n",
        "\n",
        "\n",
        "## 🧪 Next Steps\n",
        "\n",
        "- Try with a larger model like `gpt2` or `falcon-rw-1b` if GPU allows\n",
        "- Evaluate BLEU scores on validation outputs\n",
        "- Push to Hugging Face Hub for deployment\n",
        "- Extend this for other languages or tasks (summarization, chat, etc.)\n",
        "- I will improve this by tweaking the **prompt format**, using **beam search**, and will adjust **temperature** for more diverse and meaningful German translations. \n",
        "- I will also consider the whole data instate of 30 parcent.\n"
      ]
    }
  ],
  "metadata": {
    "accelerator": "GPU",
    "colab": {
      "gpuType": "T4",
      "provenance": []
    },
    "kernelspec": {
      "display_name": "Python 3",
      "name": "python3"
    },
    "language_info": {
      "name": "python"
    },
    "widgets": {
      "application/vnd.jupyter.widget-state+json": {
        "0540f2a9f9fd41cebad0a2cd2692dd27": {
          "model_module": "@jupyter-widgets/controls",
          "model_module_version": "1.5.0",
          "model_name": "DescriptionStyleModel",
          "state": {
            "_model_module": "@jupyter-widgets/controls",
            "_model_module_version": "1.5.0",
            "_model_name": "DescriptionStyleModel",
            "_view_count": null,
            "_view_module": "@jupyter-widgets/base",
            "_view_module_version": "1.2.0",
            "_view_name": "StyleView",
            "description_width": ""
          }
        },
        "0b37b178fc4f40f5bd1d531c7fa3f460": {
          "model_module": "@jupyter-widgets/base",
          "model_module_version": "1.2.0",
          "model_name": "LayoutModel",
          "state": {
            "_model_module": "@jupyter-widgets/base",
            "_model_module_version": "1.2.0",
            "_model_name": "LayoutModel",
            "_view_count": null,
            "_view_module": "@jupyter-widgets/base",
            "_view_module_version": "1.2.0",
            "_view_name": "LayoutView",
            "align_content": null,
            "align_items": null,
            "align_self": null,
            "border": null,
            "bottom": null,
            "display": null,
            "flex": null,
            "flex_flow": null,
            "grid_area": null,
            "grid_auto_columns": null,
            "grid_auto_flow": null,
            "grid_auto_rows": null,
            "grid_column": null,
            "grid_gap": null,
            "grid_row": null,
            "grid_template_areas": null,
            "grid_template_columns": null,
            "grid_template_rows": null,
            "height": null,
            "justify_content": null,
            "justify_items": null,
            "left": null,
            "margin": null,
            "max_height": null,
            "max_width": null,
            "min_height": null,
            "min_width": null,
            "object_fit": null,
            "object_position": null,
            "order": null,
            "overflow": null,
            "overflow_x": null,
            "overflow_y": null,
            "padding": null,
            "right": null,
            "top": null,
            "visibility": null,
            "width": null
          }
        },
        "0e597bc5385943d0a47dc6e8f2b22020": {
          "model_module": "@jupyter-widgets/controls",
          "model_module_version": "1.5.0",
          "model_name": "DescriptionStyleModel",
          "state": {
            "_model_module": "@jupyter-widgets/controls",
            "_model_module_version": "1.5.0",
            "_model_name": "DescriptionStyleModel",
            "_view_count": null,
            "_view_module": "@jupyter-widgets/base",
            "_view_module_version": "1.2.0",
            "_view_name": "StyleView",
            "description_width": ""
          }
        },
        "0ebd709ab86e4974bb4c6689e1c5db8d": {
          "model_module": "@jupyter-widgets/controls",
          "model_module_version": "1.5.0",
          "model_name": "HBoxModel",
          "state": {
            "_dom_classes": [],
            "_model_module": "@jupyter-widgets/controls",
            "_model_module_version": "1.5.0",
            "_model_name": "HBoxModel",
            "_view_count": null,
            "_view_module": "@jupyter-widgets/controls",
            "_view_module_version": "1.5.0",
            "_view_name": "HBoxView",
            "box_style": "",
            "children": [
              "IPY_MODEL_e6572df3396b41cc9386377f94c205e2",
              "IPY_MODEL_dafef4264184473baa7df6246de8737e",
              "IPY_MODEL_d507facbefb541aca4777b1c5db2eeec"
            ],
            "layout": "IPY_MODEL_8649a695229f40358f42df611794df0c"
          }
        },
        "19e2be8b76cf40b9bd169a64ab88981c": {
          "model_module": "@jupyter-widgets/controls",
          "model_module_version": "1.5.0",
          "model_name": "DescriptionStyleModel",
          "state": {
            "_model_module": "@jupyter-widgets/controls",
            "_model_module_version": "1.5.0",
            "_model_name": "DescriptionStyleModel",
            "_view_count": null,
            "_view_module": "@jupyter-widgets/base",
            "_view_module_version": "1.2.0",
            "_view_name": "StyleView",
            "description_width": ""
          }
        },
        "21bf0e1d4d964909a889be0949cd12f4": {
          "model_module": "@jupyter-widgets/controls",
          "model_module_version": "1.5.0",
          "model_name": "DescriptionStyleModel",
          "state": {
            "_model_module": "@jupyter-widgets/controls",
            "_model_module_version": "1.5.0",
            "_model_name": "DescriptionStyleModel",
            "_view_count": null,
            "_view_module": "@jupyter-widgets/base",
            "_view_module_version": "1.2.0",
            "_view_name": "StyleView",
            "description_width": ""
          }
        },
        "27118ffd10cd46ef98d6c4fbb9181382": {
          "model_module": "@jupyter-widgets/controls",
          "model_module_version": "1.5.0",
          "model_name": "HTMLModel",
          "state": {
            "_dom_classes": [],
            "_model_module": "@jupyter-widgets/controls",
            "_model_module_version": "1.5.0",
            "_model_name": "HTMLModel",
            "_view_count": null,
            "_view_module": "@jupyter-widgets/controls",
            "_view_module_version": "1.5.0",
            "_view_name": "HTMLView",
            "description": "",
            "description_tooltip": null,
            "layout": "IPY_MODEL_5e7fcd6380e44b9ead380680c6be2c0b",
            "placeholder": "​",
            "style": "IPY_MODEL_21bf0e1d4d964909a889be0949cd12f4",
            "value": " 13292/13292 [00:02&lt;00:00, 6690.63 examples/s]"
          }
        },
        "32b25afae35a4e309aaf647d5cfdc12f": {
          "model_module": "@jupyter-widgets/base",
          "model_module_version": "1.2.0",
          "model_name": "LayoutModel",
          "state": {
            "_model_module": "@jupyter-widgets/base",
            "_model_module_version": "1.2.0",
            "_model_name": "LayoutModel",
            "_view_count": null,
            "_view_module": "@jupyter-widgets/base",
            "_view_module_version": "1.2.0",
            "_view_name": "LayoutView",
            "align_content": null,
            "align_items": null,
            "align_self": null,
            "border": null,
            "bottom": null,
            "display": null,
            "flex": null,
            "flex_flow": null,
            "grid_area": null,
            "grid_auto_columns": null,
            "grid_auto_flow": null,
            "grid_auto_rows": null,
            "grid_column": null,
            "grid_gap": null,
            "grid_row": null,
            "grid_template_areas": null,
            "grid_template_columns": null,
            "grid_template_rows": null,
            "height": null,
            "justify_content": null,
            "justify_items": null,
            "left": null,
            "margin": null,
            "max_height": null,
            "max_width": null,
            "min_height": null,
            "min_width": null,
            "object_fit": null,
            "object_position": null,
            "order": null,
            "overflow": null,
            "overflow_x": null,
            "overflow_y": null,
            "padding": null,
            "right": null,
            "top": null,
            "visibility": null,
            "width": null
          }
        },
        "3444bf110bc04dc3aa5e4293cc09ab46": {
          "model_module": "@jupyter-widgets/controls",
          "model_module_version": "1.5.0",
          "model_name": "HTMLModel",
          "state": {
            "_dom_classes": [],
            "_model_module": "@jupyter-widgets/controls",
            "_model_module_version": "1.5.0",
            "_model_name": "HTMLModel",
            "_view_count": null,
            "_view_module": "@jupyter-widgets/controls",
            "_view_module_version": "1.5.0",
            "_view_name": "HTMLView",
            "description": "",
            "description_tooltip": null,
            "layout": "IPY_MODEL_da617cde14db422cae6e60670c10c32e",
            "placeholder": "​",
            "style": "IPY_MODEL_19e2be8b76cf40b9bd169a64ab88981c",
            "value": "Map: 100%"
          }
        },
        "39a3981990d84a61bb7ba205b1414303": {
          "model_module": "@jupyter-widgets/base",
          "model_module_version": "1.2.0",
          "model_name": "LayoutModel",
          "state": {
            "_model_module": "@jupyter-widgets/base",
            "_model_module_version": "1.2.0",
            "_model_name": "LayoutModel",
            "_view_count": null,
            "_view_module": "@jupyter-widgets/base",
            "_view_module_version": "1.2.0",
            "_view_name": "LayoutView",
            "align_content": null,
            "align_items": null,
            "align_self": null,
            "border": null,
            "bottom": null,
            "display": null,
            "flex": null,
            "flex_flow": null,
            "grid_area": null,
            "grid_auto_columns": null,
            "grid_auto_flow": null,
            "grid_auto_rows": null,
            "grid_column": null,
            "grid_gap": null,
            "grid_row": null,
            "grid_template_areas": null,
            "grid_template_columns": null,
            "grid_template_rows": null,
            "height": null,
            "justify_content": null,
            "justify_items": null,
            "left": null,
            "margin": null,
            "max_height": null,
            "max_width": null,
            "min_height": null,
            "min_width": null,
            "object_fit": null,
            "object_position": null,
            "order": null,
            "overflow": null,
            "overflow_x": null,
            "overflow_y": null,
            "padding": null,
            "right": null,
            "top": null,
            "visibility": null,
            "width": null
          }
        },
        "39f2365726384d7caabef65f58691c8d": {
          "model_module": "@jupyter-widgets/controls",
          "model_module_version": "1.5.0",
          "model_name": "ProgressStyleModel",
          "state": {
            "_model_module": "@jupyter-widgets/controls",
            "_model_module_version": "1.5.0",
            "_model_name": "ProgressStyleModel",
            "_view_count": null,
            "_view_module": "@jupyter-widgets/base",
            "_view_module_version": "1.2.0",
            "_view_name": "StyleView",
            "bar_color": null,
            "description_width": ""
          }
        },
        "40e545f0d0f543d691d6fe857ddd8360": {
          "model_module": "@jupyter-widgets/controls",
          "model_module_version": "1.5.0",
          "model_name": "HTMLModel",
          "state": {
            "_dom_classes": [],
            "_model_module": "@jupyter-widgets/controls",
            "_model_module_version": "1.5.0",
            "_model_name": "HTMLModel",
            "_view_count": null,
            "_view_module": "@jupyter-widgets/controls",
            "_view_module_version": "1.5.0",
            "_view_name": "HTMLView",
            "description": "",
            "description_tooltip": null,
            "layout": "IPY_MODEL_45fa8de29dd84f099b84370bfd065874",
            "placeholder": "​",
            "style": "IPY_MODEL_6ec49fd2e48e49f6b807fdc6c9ada45d",
            "value": "Map: 100%"
          }
        },
        "43d3dbc0c53f4e138dca1811fd1f9716": {
          "model_module": "@jupyter-widgets/controls",
          "model_module_version": "1.5.0",
          "model_name": "HTMLModel",
          "state": {
            "_dom_classes": [],
            "_model_module": "@jupyter-widgets/controls",
            "_model_module_version": "1.5.0",
            "_model_name": "HTMLModel",
            "_view_count": null,
            "_view_module": "@jupyter-widgets/controls",
            "_view_module_version": "1.5.0",
            "_view_name": "HTMLView",
            "description": "",
            "description_tooltip": null,
            "layout": "IPY_MODEL_e897943f139a490d98831577eb85dd12",
            "placeholder": "​",
            "style": "IPY_MODEL_ff7132ac0b3444e1a88613bd47e003bb",
            "value": " 53167/53167 [00:11&lt;00:00, 5028.39 examples/s]"
          }
        },
        "45fa8de29dd84f099b84370bfd065874": {
          "model_module": "@jupyter-widgets/base",
          "model_module_version": "1.2.0",
          "model_name": "LayoutModel",
          "state": {
            "_model_module": "@jupyter-widgets/base",
            "_model_module_version": "1.2.0",
            "_model_name": "LayoutModel",
            "_view_count": null,
            "_view_module": "@jupyter-widgets/base",
            "_view_module_version": "1.2.0",
            "_view_name": "LayoutView",
            "align_content": null,
            "align_items": null,
            "align_self": null,
            "border": null,
            "bottom": null,
            "display": null,
            "flex": null,
            "flex_flow": null,
            "grid_area": null,
            "grid_auto_columns": null,
            "grid_auto_flow": null,
            "grid_auto_rows": null,
            "grid_column": null,
            "grid_gap": null,
            "grid_row": null,
            "grid_template_areas": null,
            "grid_template_columns": null,
            "grid_template_rows": null,
            "height": null,
            "justify_content": null,
            "justify_items": null,
            "left": null,
            "margin": null,
            "max_height": null,
            "max_width": null,
            "min_height": null,
            "min_width": null,
            "object_fit": null,
            "object_position": null,
            "order": null,
            "overflow": null,
            "overflow_x": null,
            "overflow_y": null,
            "padding": null,
            "right": null,
            "top": null,
            "visibility": null,
            "width": null
          }
        },
        "4d1f44512f764de48cbae2794db8c40e": {
          "model_module": "@jupyter-widgets/base",
          "model_module_version": "1.2.0",
          "model_name": "LayoutModel",
          "state": {
            "_model_module": "@jupyter-widgets/base",
            "_model_module_version": "1.2.0",
            "_model_name": "LayoutModel",
            "_view_count": null,
            "_view_module": "@jupyter-widgets/base",
            "_view_module_version": "1.2.0",
            "_view_name": "LayoutView",
            "align_content": null,
            "align_items": null,
            "align_self": null,
            "border": null,
            "bottom": null,
            "display": null,
            "flex": null,
            "flex_flow": null,
            "grid_area": null,
            "grid_auto_columns": null,
            "grid_auto_flow": null,
            "grid_auto_rows": null,
            "grid_column": null,
            "grid_gap": null,
            "grid_row": null,
            "grid_template_areas": null,
            "grid_template_columns": null,
            "grid_template_rows": null,
            "height": null,
            "justify_content": null,
            "justify_items": null,
            "left": null,
            "margin": null,
            "max_height": null,
            "max_width": null,
            "min_height": null,
            "min_width": null,
            "object_fit": null,
            "object_position": null,
            "order": null,
            "overflow": null,
            "overflow_x": null,
            "overflow_y": null,
            "padding": null,
            "right": null,
            "top": null,
            "visibility": null,
            "width": null
          }
        },
        "5cf165672cb64fef805e8eb93697cec0": {
          "model_module": "@jupyter-widgets/controls",
          "model_module_version": "1.5.0",
          "model_name": "DescriptionStyleModel",
          "state": {
            "_model_module": "@jupyter-widgets/controls",
            "_model_module_version": "1.5.0",
            "_model_name": "DescriptionStyleModel",
            "_view_count": null,
            "_view_module": "@jupyter-widgets/base",
            "_view_module_version": "1.2.0",
            "_view_name": "StyleView",
            "description_width": ""
          }
        },
        "5e7fcd6380e44b9ead380680c6be2c0b": {
          "model_module": "@jupyter-widgets/base",
          "model_module_version": "1.2.0",
          "model_name": "LayoutModel",
          "state": {
            "_model_module": "@jupyter-widgets/base",
            "_model_module_version": "1.2.0",
            "_model_name": "LayoutModel",
            "_view_count": null,
            "_view_module": "@jupyter-widgets/base",
            "_view_module_version": "1.2.0",
            "_view_name": "LayoutView",
            "align_content": null,
            "align_items": null,
            "align_self": null,
            "border": null,
            "bottom": null,
            "display": null,
            "flex": null,
            "flex_flow": null,
            "grid_area": null,
            "grid_auto_columns": null,
            "grid_auto_flow": null,
            "grid_auto_rows": null,
            "grid_column": null,
            "grid_gap": null,
            "grid_row": null,
            "grid_template_areas": null,
            "grid_template_columns": null,
            "grid_template_rows": null,
            "height": null,
            "justify_content": null,
            "justify_items": null,
            "left": null,
            "margin": null,
            "max_height": null,
            "max_width": null,
            "min_height": null,
            "min_width": null,
            "object_fit": null,
            "object_position": null,
            "order": null,
            "overflow": null,
            "overflow_x": null,
            "overflow_y": null,
            "padding": null,
            "right": null,
            "top": null,
            "visibility": null,
            "width": null
          }
        },
        "6ec49fd2e48e49f6b807fdc6c9ada45d": {
          "model_module": "@jupyter-widgets/controls",
          "model_module_version": "1.5.0",
          "model_name": "DescriptionStyleModel",
          "state": {
            "_model_module": "@jupyter-widgets/controls",
            "_model_module_version": "1.5.0",
            "_model_name": "DescriptionStyleModel",
            "_view_count": null,
            "_view_module": "@jupyter-widgets/base",
            "_view_module_version": "1.2.0",
            "_view_name": "StyleView",
            "description_width": ""
          }
        },
        "7a209cfd9a8c4fbdb66c88bc12c21957": {
          "model_module": "@jupyter-widgets/base",
          "model_module_version": "1.2.0",
          "model_name": "LayoutModel",
          "state": {
            "_model_module": "@jupyter-widgets/base",
            "_model_module_version": "1.2.0",
            "_model_name": "LayoutModel",
            "_view_count": null,
            "_view_module": "@jupyter-widgets/base",
            "_view_module_version": "1.2.0",
            "_view_name": "LayoutView",
            "align_content": null,
            "align_items": null,
            "align_self": null,
            "border": null,
            "bottom": null,
            "display": null,
            "flex": null,
            "flex_flow": null,
            "grid_area": null,
            "grid_auto_columns": null,
            "grid_auto_flow": null,
            "grid_auto_rows": null,
            "grid_column": null,
            "grid_gap": null,
            "grid_row": null,
            "grid_template_areas": null,
            "grid_template_columns": null,
            "grid_template_rows": null,
            "height": null,
            "justify_content": null,
            "justify_items": null,
            "left": null,
            "margin": null,
            "max_height": null,
            "max_width": null,
            "min_height": null,
            "min_width": null,
            "object_fit": null,
            "object_position": null,
            "order": null,
            "overflow": null,
            "overflow_x": null,
            "overflow_y": null,
            "padding": null,
            "right": null,
            "top": null,
            "visibility": null,
            "width": null
          }
        },
        "7fa832b1f2ca42698348335c11edba20": {
          "model_module": "@jupyter-widgets/controls",
          "model_module_version": "1.5.0",
          "model_name": "HBoxModel",
          "state": {
            "_dom_classes": [],
            "_model_module": "@jupyter-widgets/controls",
            "_model_module_version": "1.5.0",
            "_model_name": "HBoxModel",
            "_view_count": null,
            "_view_module": "@jupyter-widgets/controls",
            "_view_module_version": "1.5.0",
            "_view_name": "HBoxView",
            "box_style": "",
            "children": [
              "IPY_MODEL_3444bf110bc04dc3aa5e4293cc09ab46",
              "IPY_MODEL_a71b1b4a91f0414a95d4bb1093172fe8",
              "IPY_MODEL_27118ffd10cd46ef98d6c4fbb9181382"
            ],
            "layout": "IPY_MODEL_97aa2e8835a745f4becd116c3ef44d7c"
          }
        },
        "8649a695229f40358f42df611794df0c": {
          "model_module": "@jupyter-widgets/base",
          "model_module_version": "1.2.0",
          "model_name": "LayoutModel",
          "state": {
            "_model_module": "@jupyter-widgets/base",
            "_model_module_version": "1.2.0",
            "_model_name": "LayoutModel",
            "_view_count": null,
            "_view_module": "@jupyter-widgets/base",
            "_view_module_version": "1.2.0",
            "_view_name": "LayoutView",
            "align_content": null,
            "align_items": null,
            "align_self": null,
            "border": null,
            "bottom": null,
            "display": null,
            "flex": null,
            "flex_flow": null,
            "grid_area": null,
            "grid_auto_columns": null,
            "grid_auto_flow": null,
            "grid_auto_rows": null,
            "grid_column": null,
            "grid_gap": null,
            "grid_row": null,
            "grid_template_areas": null,
            "grid_template_columns": null,
            "grid_template_rows": null,
            "height": null,
            "justify_content": null,
            "justify_items": null,
            "left": null,
            "margin": null,
            "max_height": null,
            "max_width": null,
            "min_height": null,
            "min_width": null,
            "object_fit": null,
            "object_position": null,
            "order": null,
            "overflow": null,
            "overflow_x": null,
            "overflow_y": null,
            "padding": null,
            "right": null,
            "top": null,
            "visibility": null,
            "width": null
          }
        },
        "8835dedcd7ca4360828ac9469a964a03": {
          "model_module": "@jupyter-widgets/controls",
          "model_module_version": "1.5.0",
          "model_name": "HBoxModel",
          "state": {
            "_dom_classes": [],
            "_model_module": "@jupyter-widgets/controls",
            "_model_module_version": "1.5.0",
            "_model_name": "HBoxModel",
            "_view_count": null,
            "_view_module": "@jupyter-widgets/controls",
            "_view_module_version": "1.5.0",
            "_view_name": "HBoxView",
            "box_style": "",
            "children": [
              "IPY_MODEL_e05f4a76d0d34324b341abda5838b99a",
              "IPY_MODEL_b8373e6b263348a2a893fc42db5a88e6",
              "IPY_MODEL_43d3dbc0c53f4e138dca1811fd1f9716"
            ],
            "layout": "IPY_MODEL_4d1f44512f764de48cbae2794db8c40e"
          }
        },
        "97aa2e8835a745f4becd116c3ef44d7c": {
          "model_module": "@jupyter-widgets/base",
          "model_module_version": "1.2.0",
          "model_name": "LayoutModel",
          "state": {
            "_model_module": "@jupyter-widgets/base",
            "_model_module_version": "1.2.0",
            "_model_name": "LayoutModel",
            "_view_count": null,
            "_view_module": "@jupyter-widgets/base",
            "_view_module_version": "1.2.0",
            "_view_name": "LayoutView",
            "align_content": null,
            "align_items": null,
            "align_self": null,
            "border": null,
            "bottom": null,
            "display": null,
            "flex": null,
            "flex_flow": null,
            "grid_area": null,
            "grid_auto_columns": null,
            "grid_auto_flow": null,
            "grid_auto_rows": null,
            "grid_column": null,
            "grid_gap": null,
            "grid_row": null,
            "grid_template_areas": null,
            "grid_template_columns": null,
            "grid_template_rows": null,
            "height": null,
            "justify_content": null,
            "justify_items": null,
            "left": null,
            "margin": null,
            "max_height": null,
            "max_width": null,
            "min_height": null,
            "min_width": null,
            "object_fit": null,
            "object_position": null,
            "order": null,
            "overflow": null,
            "overflow_x": null,
            "overflow_y": null,
            "padding": null,
            "right": null,
            "top": null,
            "visibility": null,
            "width": null
          }
        },
        "a6e494dc4e4143c9b3540643e6e6088d": {
          "model_module": "@jupyter-widgets/controls",
          "model_module_version": "1.5.0",
          "model_name": "ProgressStyleModel",
          "state": {
            "_model_module": "@jupyter-widgets/controls",
            "_model_module_version": "1.5.0",
            "_model_name": "ProgressStyleModel",
            "_view_count": null,
            "_view_module": "@jupyter-widgets/base",
            "_view_module_version": "1.2.0",
            "_view_name": "StyleView",
            "bar_color": null,
            "description_width": ""
          }
        },
        "a71b1b4a91f0414a95d4bb1093172fe8": {
          "model_module": "@jupyter-widgets/controls",
          "model_module_version": "1.5.0",
          "model_name": "FloatProgressModel",
          "state": {
            "_dom_classes": [],
            "_model_module": "@jupyter-widgets/controls",
            "_model_module_version": "1.5.0",
            "_model_name": "FloatProgressModel",
            "_view_count": null,
            "_view_module": "@jupyter-widgets/controls",
            "_view_module_version": "1.5.0",
            "_view_name": "ProgressView",
            "bar_style": "success",
            "description": "",
            "description_tooltip": null,
            "layout": "IPY_MODEL_b690a4cbd4b04b30b1cee40489cd6e51",
            "max": 13292,
            "min": 0,
            "orientation": "horizontal",
            "style": "IPY_MODEL_39f2365726384d7caabef65f58691c8d",
            "value": 13292
          }
        },
        "a9ea64650f1540149cc133c98b78b5b5": {
          "model_module": "@jupyter-widgets/controls",
          "model_module_version": "1.5.0",
          "model_name": "FloatProgressModel",
          "state": {
            "_dom_classes": [],
            "_model_module": "@jupyter-widgets/controls",
            "_model_module_version": "1.5.0",
            "_model_name": "FloatProgressModel",
            "_view_count": null,
            "_view_module": "@jupyter-widgets/controls",
            "_view_module_version": "1.5.0",
            "_view_name": "ProgressView",
            "bar_style": "success",
            "description": "",
            "description_tooltip": null,
            "layout": "IPY_MODEL_32b25afae35a4e309aaf647d5cfdc12f",
            "max": 53167,
            "min": 0,
            "orientation": "horizontal",
            "style": "IPY_MODEL_a6e494dc4e4143c9b3540643e6e6088d",
            "value": 53167
          }
        },
        "b690a4cbd4b04b30b1cee40489cd6e51": {
          "model_module": "@jupyter-widgets/base",
          "model_module_version": "1.2.0",
          "model_name": "LayoutModel",
          "state": {
            "_model_module": "@jupyter-widgets/base",
            "_model_module_version": "1.2.0",
            "_model_name": "LayoutModel",
            "_view_count": null,
            "_view_module": "@jupyter-widgets/base",
            "_view_module_version": "1.2.0",
            "_view_name": "LayoutView",
            "align_content": null,
            "align_items": null,
            "align_self": null,
            "border": null,
            "bottom": null,
            "display": null,
            "flex": null,
            "flex_flow": null,
            "grid_area": null,
            "grid_auto_columns": null,
            "grid_auto_flow": null,
            "grid_auto_rows": null,
            "grid_column": null,
            "grid_gap": null,
            "grid_row": null,
            "grid_template_areas": null,
            "grid_template_columns": null,
            "grid_template_rows": null,
            "height": null,
            "justify_content": null,
            "justify_items": null,
            "left": null,
            "margin": null,
            "max_height": null,
            "max_width": null,
            "min_height": null,
            "min_width": null,
            "object_fit": null,
            "object_position": null,
            "order": null,
            "overflow": null,
            "overflow_x": null,
            "overflow_y": null,
            "padding": null,
            "right": null,
            "top": null,
            "visibility": null,
            "width": null
          }
        },
        "b8373e6b263348a2a893fc42db5a88e6": {
          "model_module": "@jupyter-widgets/controls",
          "model_module_version": "1.5.0",
          "model_name": "FloatProgressModel",
          "state": {
            "_dom_classes": [],
            "_model_module": "@jupyter-widgets/controls",
            "_model_module_version": "1.5.0",
            "_model_name": "FloatProgressModel",
            "_view_count": null,
            "_view_module": "@jupyter-widgets/controls",
            "_view_module_version": "1.5.0",
            "_view_name": "ProgressView",
            "bar_style": "success",
            "description": "",
            "description_tooltip": null,
            "layout": "IPY_MODEL_f2a340567bdc489d93edb1c3f7f4b3e9",
            "max": 53167,
            "min": 0,
            "orientation": "horizontal",
            "style": "IPY_MODEL_f990e1c81cc841f8bdf1fa26d57a11b6",
            "value": 53167
          }
        },
        "ba1fc64be1c54c9bad7cc31016effd4c": {
          "model_module": "@jupyter-widgets/base",
          "model_module_version": "1.2.0",
          "model_name": "LayoutModel",
          "state": {
            "_model_module": "@jupyter-widgets/base",
            "_model_module_version": "1.2.0",
            "_model_name": "LayoutModel",
            "_view_count": null,
            "_view_module": "@jupyter-widgets/base",
            "_view_module_version": "1.2.0",
            "_view_name": "LayoutView",
            "align_content": null,
            "align_items": null,
            "align_self": null,
            "border": null,
            "bottom": null,
            "display": null,
            "flex": null,
            "flex_flow": null,
            "grid_area": null,
            "grid_auto_columns": null,
            "grid_auto_flow": null,
            "grid_auto_rows": null,
            "grid_column": null,
            "grid_gap": null,
            "grid_row": null,
            "grid_template_areas": null,
            "grid_template_columns": null,
            "grid_template_rows": null,
            "height": null,
            "justify_content": null,
            "justify_items": null,
            "left": null,
            "margin": null,
            "max_height": null,
            "max_width": null,
            "min_height": null,
            "min_width": null,
            "object_fit": null,
            "object_position": null,
            "order": null,
            "overflow": null,
            "overflow_x": null,
            "overflow_y": null,
            "padding": null,
            "right": null,
            "top": null,
            "visibility": null,
            "width": null
          }
        },
        "bb56b98c126343adb905d467a898948a": {
          "model_module": "@jupyter-widgets/controls",
          "model_module_version": "1.5.0",
          "model_name": "HBoxModel",
          "state": {
            "_dom_classes": [],
            "_model_module": "@jupyter-widgets/controls",
            "_model_module_version": "1.5.0",
            "_model_name": "HBoxModel",
            "_view_count": null,
            "_view_module": "@jupyter-widgets/controls",
            "_view_module_version": "1.5.0",
            "_view_name": "HBoxView",
            "box_style": "",
            "children": [
              "IPY_MODEL_40e545f0d0f543d691d6fe857ddd8360",
              "IPY_MODEL_a9ea64650f1540149cc133c98b78b5b5",
              "IPY_MODEL_ea05aa7fb25c422da975d8fc39d38c28"
            ],
            "layout": "IPY_MODEL_0b37b178fc4f40f5bd1d531c7fa3f460"
          }
        },
        "c7a3ebb7c3454192a9f0ed6509180061": {
          "model_module": "@jupyter-widgets/base",
          "model_module_version": "1.2.0",
          "model_name": "LayoutModel",
          "state": {
            "_model_module": "@jupyter-widgets/base",
            "_model_module_version": "1.2.0",
            "_model_name": "LayoutModel",
            "_view_count": null,
            "_view_module": "@jupyter-widgets/base",
            "_view_module_version": "1.2.0",
            "_view_name": "LayoutView",
            "align_content": null,
            "align_items": null,
            "align_self": null,
            "border": null,
            "bottom": null,
            "display": null,
            "flex": null,
            "flex_flow": null,
            "grid_area": null,
            "grid_auto_columns": null,
            "grid_auto_flow": null,
            "grid_auto_rows": null,
            "grid_column": null,
            "grid_gap": null,
            "grid_row": null,
            "grid_template_areas": null,
            "grid_template_columns": null,
            "grid_template_rows": null,
            "height": null,
            "justify_content": null,
            "justify_items": null,
            "left": null,
            "margin": null,
            "max_height": null,
            "max_width": null,
            "min_height": null,
            "min_width": null,
            "object_fit": null,
            "object_position": null,
            "order": null,
            "overflow": null,
            "overflow_x": null,
            "overflow_y": null,
            "padding": null,
            "right": null,
            "top": null,
            "visibility": null,
            "width": null
          }
        },
        "d507facbefb541aca4777b1c5db2eeec": {
          "model_module": "@jupyter-widgets/controls",
          "model_module_version": "1.5.0",
          "model_name": "HTMLModel",
          "state": {
            "_dom_classes": [],
            "_model_module": "@jupyter-widgets/controls",
            "_model_module_version": "1.5.0",
            "_model_name": "HTMLModel",
            "_view_count": null,
            "_view_module": "@jupyter-widgets/controls",
            "_view_module_version": "1.5.0",
            "_view_name": "HTMLView",
            "description": "",
            "description_tooltip": null,
            "layout": "IPY_MODEL_ec6917a22a3d4442bed6f26d965b70d6",
            "placeholder": "​",
            "style": "IPY_MODEL_0540f2a9f9fd41cebad0a2cd2692dd27",
            "value": " 13292/13292 [00:02&lt;00:00, 4931.63 examples/s]"
          }
        },
        "da617cde14db422cae6e60670c10c32e": {
          "model_module": "@jupyter-widgets/base",
          "model_module_version": "1.2.0",
          "model_name": "LayoutModel",
          "state": {
            "_model_module": "@jupyter-widgets/base",
            "_model_module_version": "1.2.0",
            "_model_name": "LayoutModel",
            "_view_count": null,
            "_view_module": "@jupyter-widgets/base",
            "_view_module_version": "1.2.0",
            "_view_name": "LayoutView",
            "align_content": null,
            "align_items": null,
            "align_self": null,
            "border": null,
            "bottom": null,
            "display": null,
            "flex": null,
            "flex_flow": null,
            "grid_area": null,
            "grid_auto_columns": null,
            "grid_auto_flow": null,
            "grid_auto_rows": null,
            "grid_column": null,
            "grid_gap": null,
            "grid_row": null,
            "grid_template_areas": null,
            "grid_template_columns": null,
            "grid_template_rows": null,
            "height": null,
            "justify_content": null,
            "justify_items": null,
            "left": null,
            "margin": null,
            "max_height": null,
            "max_width": null,
            "min_height": null,
            "min_width": null,
            "object_fit": null,
            "object_position": null,
            "order": null,
            "overflow": null,
            "overflow_x": null,
            "overflow_y": null,
            "padding": null,
            "right": null,
            "top": null,
            "visibility": null,
            "width": null
          }
        },
        "dafef4264184473baa7df6246de8737e": {
          "model_module": "@jupyter-widgets/controls",
          "model_module_version": "1.5.0",
          "model_name": "FloatProgressModel",
          "state": {
            "_dom_classes": [],
            "_model_module": "@jupyter-widgets/controls",
            "_model_module_version": "1.5.0",
            "_model_name": "FloatProgressModel",
            "_view_count": null,
            "_view_module": "@jupyter-widgets/controls",
            "_view_module_version": "1.5.0",
            "_view_name": "ProgressView",
            "bar_style": "success",
            "description": "",
            "description_tooltip": null,
            "layout": "IPY_MODEL_c7a3ebb7c3454192a9f0ed6509180061",
            "max": 13292,
            "min": 0,
            "orientation": "horizontal",
            "style": "IPY_MODEL_f750360731bf456cbcca152cb83b0342",
            "value": 13292
          }
        },
        "e05f4a76d0d34324b341abda5838b99a": {
          "model_module": "@jupyter-widgets/controls",
          "model_module_version": "1.5.0",
          "model_name": "HTMLModel",
          "state": {
            "_dom_classes": [],
            "_model_module": "@jupyter-widgets/controls",
            "_model_module_version": "1.5.0",
            "_model_name": "HTMLModel",
            "_view_count": null,
            "_view_module": "@jupyter-widgets/controls",
            "_view_module_version": "1.5.0",
            "_view_name": "HTMLView",
            "description": "",
            "description_tooltip": null,
            "layout": "IPY_MODEL_39a3981990d84a61bb7ba205b1414303",
            "placeholder": "​",
            "style": "IPY_MODEL_5cf165672cb64fef805e8eb93697cec0",
            "value": "Map: 100%"
          }
        },
        "e6572df3396b41cc9386377f94c205e2": {
          "model_module": "@jupyter-widgets/controls",
          "model_module_version": "1.5.0",
          "model_name": "HTMLModel",
          "state": {
            "_dom_classes": [],
            "_model_module": "@jupyter-widgets/controls",
            "_model_module_version": "1.5.0",
            "_model_name": "HTMLModel",
            "_view_count": null,
            "_view_module": "@jupyter-widgets/controls",
            "_view_module_version": "1.5.0",
            "_view_name": "HTMLView",
            "description": "",
            "description_tooltip": null,
            "layout": "IPY_MODEL_ba1fc64be1c54c9bad7cc31016effd4c",
            "placeholder": "​",
            "style": "IPY_MODEL_f3b86e8e052b44c0bc75d66fca2151f6",
            "value": "Map: 100%"
          }
        },
        "e897943f139a490d98831577eb85dd12": {
          "model_module": "@jupyter-widgets/base",
          "model_module_version": "1.2.0",
          "model_name": "LayoutModel",
          "state": {
            "_model_module": "@jupyter-widgets/base",
            "_model_module_version": "1.2.0",
            "_model_name": "LayoutModel",
            "_view_count": null,
            "_view_module": "@jupyter-widgets/base",
            "_view_module_version": "1.2.0",
            "_view_name": "LayoutView",
            "align_content": null,
            "align_items": null,
            "align_self": null,
            "border": null,
            "bottom": null,
            "display": null,
            "flex": null,
            "flex_flow": null,
            "grid_area": null,
            "grid_auto_columns": null,
            "grid_auto_flow": null,
            "grid_auto_rows": null,
            "grid_column": null,
            "grid_gap": null,
            "grid_row": null,
            "grid_template_areas": null,
            "grid_template_columns": null,
            "grid_template_rows": null,
            "height": null,
            "justify_content": null,
            "justify_items": null,
            "left": null,
            "margin": null,
            "max_height": null,
            "max_width": null,
            "min_height": null,
            "min_width": null,
            "object_fit": null,
            "object_position": null,
            "order": null,
            "overflow": null,
            "overflow_x": null,
            "overflow_y": null,
            "padding": null,
            "right": null,
            "top": null,
            "visibility": null,
            "width": null
          }
        },
        "ea05aa7fb25c422da975d8fc39d38c28": {
          "model_module": "@jupyter-widgets/controls",
          "model_module_version": "1.5.0",
          "model_name": "HTMLModel",
          "state": {
            "_dom_classes": [],
            "_model_module": "@jupyter-widgets/controls",
            "_model_module_version": "1.5.0",
            "_model_name": "HTMLModel",
            "_view_count": null,
            "_view_module": "@jupyter-widgets/controls",
            "_view_module_version": "1.5.0",
            "_view_name": "HTMLView",
            "description": "",
            "description_tooltip": null,
            "layout": "IPY_MODEL_7a209cfd9a8c4fbdb66c88bc12c21957",
            "placeholder": "​",
            "style": "IPY_MODEL_0e597bc5385943d0a47dc6e8f2b22020",
            "value": " 53167/53167 [00:10&lt;00:00, 7119.21 examples/s]"
          }
        },
        "ec6917a22a3d4442bed6f26d965b70d6": {
          "model_module": "@jupyter-widgets/base",
          "model_module_version": "1.2.0",
          "model_name": "LayoutModel",
          "state": {
            "_model_module": "@jupyter-widgets/base",
            "_model_module_version": "1.2.0",
            "_model_name": "LayoutModel",
            "_view_count": null,
            "_view_module": "@jupyter-widgets/base",
            "_view_module_version": "1.2.0",
            "_view_name": "LayoutView",
            "align_content": null,
            "align_items": null,
            "align_self": null,
            "border": null,
            "bottom": null,
            "display": null,
            "flex": null,
            "flex_flow": null,
            "grid_area": null,
            "grid_auto_columns": null,
            "grid_auto_flow": null,
            "grid_auto_rows": null,
            "grid_column": null,
            "grid_gap": null,
            "grid_row": null,
            "grid_template_areas": null,
            "grid_template_columns": null,
            "grid_template_rows": null,
            "height": null,
            "justify_content": null,
            "justify_items": null,
            "left": null,
            "margin": null,
            "max_height": null,
            "max_width": null,
            "min_height": null,
            "min_width": null,
            "object_fit": null,
            "object_position": null,
            "order": null,
            "overflow": null,
            "overflow_x": null,
            "overflow_y": null,
            "padding": null,
            "right": null,
            "top": null,
            "visibility": null,
            "width": null
          }
        },
        "f2a340567bdc489d93edb1c3f7f4b3e9": {
          "model_module": "@jupyter-widgets/base",
          "model_module_version": "1.2.0",
          "model_name": "LayoutModel",
          "state": {
            "_model_module": "@jupyter-widgets/base",
            "_model_module_version": "1.2.0",
            "_model_name": "LayoutModel",
            "_view_count": null,
            "_view_module": "@jupyter-widgets/base",
            "_view_module_version": "1.2.0",
            "_view_name": "LayoutView",
            "align_content": null,
            "align_items": null,
            "align_self": null,
            "border": null,
            "bottom": null,
            "display": null,
            "flex": null,
            "flex_flow": null,
            "grid_area": null,
            "grid_auto_columns": null,
            "grid_auto_flow": null,
            "grid_auto_rows": null,
            "grid_column": null,
            "grid_gap": null,
            "grid_row": null,
            "grid_template_areas": null,
            "grid_template_columns": null,
            "grid_template_rows": null,
            "height": null,
            "justify_content": null,
            "justify_items": null,
            "left": null,
            "margin": null,
            "max_height": null,
            "max_width": null,
            "min_height": null,
            "min_width": null,
            "object_fit": null,
            "object_position": null,
            "order": null,
            "overflow": null,
            "overflow_x": null,
            "overflow_y": null,
            "padding": null,
            "right": null,
            "top": null,
            "visibility": null,
            "width": null
          }
        },
        "f3b86e8e052b44c0bc75d66fca2151f6": {
          "model_module": "@jupyter-widgets/controls",
          "model_module_version": "1.5.0",
          "model_name": "DescriptionStyleModel",
          "state": {
            "_model_module": "@jupyter-widgets/controls",
            "_model_module_version": "1.5.0",
            "_model_name": "DescriptionStyleModel",
            "_view_count": null,
            "_view_module": "@jupyter-widgets/base",
            "_view_module_version": "1.2.0",
            "_view_name": "StyleView",
            "description_width": ""
          }
        },
        "f750360731bf456cbcca152cb83b0342": {
          "model_module": "@jupyter-widgets/controls",
          "model_module_version": "1.5.0",
          "model_name": "ProgressStyleModel",
          "state": {
            "_model_module": "@jupyter-widgets/controls",
            "_model_module_version": "1.5.0",
            "_model_name": "ProgressStyleModel",
            "_view_count": null,
            "_view_module": "@jupyter-widgets/base",
            "_view_module_version": "1.2.0",
            "_view_name": "StyleView",
            "bar_color": null,
            "description_width": ""
          }
        },
        "f990e1c81cc841f8bdf1fa26d57a11b6": {
          "model_module": "@jupyter-widgets/controls",
          "model_module_version": "1.5.0",
          "model_name": "ProgressStyleModel",
          "state": {
            "_model_module": "@jupyter-widgets/controls",
            "_model_module_version": "1.5.0",
            "_model_name": "ProgressStyleModel",
            "_view_count": null,
            "_view_module": "@jupyter-widgets/base",
            "_view_module_version": "1.2.0",
            "_view_name": "StyleView",
            "bar_color": null,
            "description_width": ""
          }
        },
        "ff7132ac0b3444e1a88613bd47e003bb": {
          "model_module": "@jupyter-widgets/controls",
          "model_module_version": "1.5.0",
          "model_name": "DescriptionStyleModel",
          "state": {
            "_model_module": "@jupyter-widgets/controls",
            "_model_module_version": "1.5.0",
            "_model_name": "DescriptionStyleModel",
            "_view_count": null,
            "_view_module": "@jupyter-widgets/base",
            "_view_module_version": "1.2.0",
            "_view_name": "StyleView",
            "description_width": ""
          }
        }
      }
    }
  },
  "nbformat": 4,
  "nbformat_minor": 0
}
